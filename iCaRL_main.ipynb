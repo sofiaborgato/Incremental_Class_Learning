{
 "cells": [
  {
   "cell_type": "code",
   "execution_count": null,
   "metadata": {},
   "outputs": [],
   "source": [
    "# qualche import.....\n",
    "\n",
    "parameters = {\n",
    "    'NUM_CLASSES': 100,\n",
    "    'BATCH_SIZE' : 128,\n",
    "    'CLASSES_BATCH' : 10,\n",
    "    'STEPDOWN_EPOCHS' : [49, 63],\n",
    "    'STEPDOWN_FACTOR' : 5,\n",
    "    'LR' : 2,\n",
    "    'MOMENTUM' : 0.9,\n",
    "    'WEIGHT_DECAY' : 0.00001,\n",
    "    'NUM_EPOCHS' : 70\n",
    "}\n",
    "model = iCaRL(memory=10000, params = parameters)\n",
    "accuracy_new, accuracy_all = model.run(herding = False)\n",
    "plot2(accuracy_new, accuracy_all)"
   ]
  }
 ],
 "metadata": {
  "language_info": {
   "codemirror_mode": {
    "name": "ipython",
    "version": 3
   },
   "file_extension": ".py",
   "mimetype": "text/x-python",
   "name": "python",
   "nbconvert_exporter": "python",
   "pygments_lexer": "ipython3",
   "version": 3
  },
  "orig_nbformat": 2
 },
 "nbformat": 4,
 "nbformat_minor": 2
}