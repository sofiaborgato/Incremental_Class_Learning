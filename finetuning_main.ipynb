{
 "cells": [
  {
   "cell_type": "code",
   "execution_count": null,
   "metadata": {
    "pycharm": {
     "is_executing": true
    }
   },
   "outputs": [
    {
     "name": "stdout",
     "output_type": "stream",
     "text": [
      "------------------------------\n",
      "**** ITERATION 1 ****\n",
      "------------------------------\n",
      "Loading the Datasets ...\n",
      "------------------------------\n",
      "Downloading https://www.cs.toronto.edu/~kriz/cifar-100-python.tar.gz to Dataset\\cifar-100-python.tar.gz\n",
      "Extracting Dataset\\cifar-100-python.tar.gz to Dataset\n",
      "Files already downloaded and verified\n",
      "------------------------------\n",
      "Training ...\n",
      "------------------------------\n",
      "Epoch 0 Loss:0.0810 Accuracy:0.1396\n",
      "Learning rate:2\n",
      "------------------------------\n",
      "Epoch 10 Loss:0.0239 Accuracy:0.4698\n",
      "Learning rate:2\n",
      "------------------------------\n"
     ]
    },
    {
     "data": {
      "application/vnd.jupyter.widget-view+json": {
       "model_id": "94e12b5a2cd241daa763fac9815557c0",
       "version_major": 2,
       "version_minor": 0
      },
      "text/plain": [
       "HBox(children=(FloatProgress(value=1.0, bar_style='info', max=1.0), HTML(value='')))"
      ]
     },
     "metadata": {},
     "output_type": "display_data"
    }
   ],
   "source": [
    "from FineTuning.FineTuning_utils import incremental_learning\n",
    "from Cifar100.utils import plot\n",
    "\n",
    "####Hyper-parameters####\n",
    "DEVICE = 'cuda'\n",
    "NUM_CLASSES = 100\n",
    "BATCH_SIZE = 128\n",
    "CLASSES_BATCH =10\n",
    "STEPDOWN_EPOCHS = [49, 63]\n",
    "STEPDOWN_FACTOR = 5\n",
    "LR = 2\n",
    "MOMENTUM = 0.9\n",
    "WEIGHT_DECAY = 0.00001\n",
    "NUM_EPOCHS = 70\n",
    "########################\n",
    "\n",
    "parameters = {\n",
    "    'name': 'Finetuning',\n",
    "    'NUM_CLASSES': NUM_CLASSES,\n",
    "    'BATCH_SIZE' : BATCH_SIZE,\n",
    "    'CLASSES_BATCH' : CLASSES_BATCH,\n",
    "    'STEPDOWN_EPOCHS' : STEPDOWN_EPOCHS,\n",
    "    'STEPDOWN_FACTOR' : STEPDOWN_FACTOR,\n",
    "    'LR' : LR,\n",
    "    'MOMENTUM' : MOMENTUM,\n",
    "    'WEIGHT_DECAY' : WEIGHT_DECAY,\n",
    "    'NUM_EPOCHS' : NUM_EPOCHS\n",
    "}\n",
    "\n",
    "new_acc_train_list, new_loss_train_list, new_acc_test_list, new_loss_test_list, all_acc_list = incremental_learning()\n",
    "\n",
    "plot(new_acc_train_list, new_acc_test_list, new_loss_train_list, new_loss_test_list, all_acc_list, parameters)\n"
   ]
  }
 ],
 "metadata": {
  "kernelspec": {
   "display_name": "Python 3",
   "language": "python",
   "name": "python3"
  },
  "language_info": {
   "codemirror_mode": {
    "name": "ipython",
    "version": 3
   },
   "file_extension": ".py",
   "mimetype": "text/x-python",
   "name": "python",
   "nbconvert_exporter": "python",
   "pygments_lexer": "ipython3",
   "version": "3.8.2"
  }
 },
 "nbformat": 4,
 "nbformat_minor": 2
}
